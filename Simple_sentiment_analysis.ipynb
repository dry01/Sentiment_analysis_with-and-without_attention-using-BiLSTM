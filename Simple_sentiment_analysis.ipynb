{
  "nbformat": 4,
  "nbformat_minor": 0,
  "metadata": {
    "colab": {
      "name": "Simple_sentiment_analysis.ipynb",
      "provenance": []
    },
    "kernelspec": {
      "name": "python3",
      "display_name": "Python 3"
    },
    "accelerator": "GPU"
  },
  "cells": [
    {
      "cell_type": "markdown",
      "metadata": {
        "id": "fmDvRtq7z_bT"
      },
      "source": [
        "Dharamvir yadav (MT19CPS012)"
      ]
    },
    {
      "cell_type": "code",
      "metadata": {
        "id": "-hbKKzuczcFT"
      },
      "source": [
        "import torch\n",
        "from torchtext import data\n",
        "\n",
        "SEED = 1234\n",
        "\n",
        "torch.manual_seed(SEED)\n",
        "torch.backends.cudnn.deterministic = True\n",
        "\n",
        "TEXT = data.Field(tokenize = 'spacy')\n",
        "LABEL = data.LabelField(dtype = torch.float)"
      ],
      "execution_count": 1,
      "outputs": []
    },
    {
      "cell_type": "markdown",
      "metadata": {
        "id": "_8PhWfUzt_WV"
      },
      "source": [
        "Reading data and preprocessing\n",
        "\n"
      ]
    },
    {
      "cell_type": "code",
      "metadata": {
        "id": "iB363rP96hU5"
      },
      "source": [
        "import pandas as pd"
      ],
      "execution_count": 3,
      "outputs": []
    },
    {
      "cell_type": "code",
      "metadata": {
        "colab": {
          "base_uri": "https://localhost:8080/",
          "height": 365
        },
        "id": "hbOzyQgs9J0A",
        "outputId": "2270021e-6393-40ad-c143-85fd0be8f37b"
      },
      "source": [
        "imdb_data = pd.read_csv(\"/content/drive/MyDrive/Jovian/review_data.csv\") \n",
        "print(imdb_data.shape)\n",
        "imdb_data.head(10)"
      ],
      "execution_count": 4,
      "outputs": [
        {
          "output_type": "stream",
          "text": [
            "(50000, 2)\n"
          ],
          "name": "stdout"
        },
        {
          "output_type": "execute_result",
          "data": {
            "text/html": [
              "<div>\n",
              "<style scoped>\n",
              "    .dataframe tbody tr th:only-of-type {\n",
              "        vertical-align: middle;\n",
              "    }\n",
              "\n",
              "    .dataframe tbody tr th {\n",
              "        vertical-align: top;\n",
              "    }\n",
              "\n",
              "    .dataframe thead th {\n",
              "        text-align: right;\n",
              "    }\n",
              "</style>\n",
              "<table border=\"1\" class=\"dataframe\">\n",
              "  <thead>\n",
              "    <tr style=\"text-align: right;\">\n",
              "      <th></th>\n",
              "      <th>final_review</th>\n",
              "      <th>sentiment</th>\n",
              "    </tr>\n",
              "  </thead>\n",
              "  <tbody>\n",
              "    <tr>\n",
              "      <th>0</th>\n",
              "      <td>teenager martha moxley maggie grace moves high...</td>\n",
              "      <td>1</td>\n",
              "    </tr>\n",
              "    <tr>\n",
              "      <th>1</th>\n",
              "      <td>ok really like kris kristofferson usual easy g...</td>\n",
              "      <td>0</td>\n",
              "    </tr>\n",
              "    <tr>\n",
              "      <th>2</th>\n",
              "      <td>spoiler read think watching movie although wou...</td>\n",
              "      <td>0</td>\n",
              "    </tr>\n",
              "    <tr>\n",
              "      <th>3</th>\n",
              "      <td>hi people seen wonderful movie im sure thet wo...</td>\n",
              "      <td>1</td>\n",
              "    </tr>\n",
              "    <tr>\n",
              "      <th>4</th>\n",
              "      <td>recently bought dvd forgetting much hated movi...</td>\n",
              "      <td>0</td>\n",
              "    </tr>\n",
              "    <tr>\n",
              "      <th>5</th>\n",
              "      <td>leave braik put good show finally zorak living...</td>\n",
              "      <td>1</td>\n",
              "    </tr>\n",
              "    <tr>\n",
              "      <th>6</th>\n",
              "      <td>nathan detroit frank sinatra manager new york ...</td>\n",
              "      <td>1</td>\n",
              "    </tr>\n",
              "    <tr>\n",
              "      <th>7</th>\n",
              "      <td>understand crash course right context must und...</td>\n",
              "      <td>1</td>\n",
              "    </tr>\n",
              "    <tr>\n",
              "      <th>8</th>\n",
              "      <td>impressed chavez stance globalisation sometime...</td>\n",
              "      <td>1</td>\n",
              "    </tr>\n",
              "    <tr>\n",
              "      <th>9</th>\n",
              "      <td>movie directed renny harlin finnish miracle st...</td>\n",
              "      <td>1</td>\n",
              "    </tr>\n",
              "  </tbody>\n",
              "</table>\n",
              "</div>"
            ],
            "text/plain": [
              "                                        final_review  sentiment\n",
              "0  teenager martha moxley maggie grace moves high...          1\n",
              "1  ok really like kris kristofferson usual easy g...          0\n",
              "2  spoiler read think watching movie although wou...          0\n",
              "3  hi people seen wonderful movie im sure thet wo...          1\n",
              "4  recently bought dvd forgetting much hated movi...          0\n",
              "5  leave braik put good show finally zorak living...          1\n",
              "6  nathan detroit frank sinatra manager new york ...          1\n",
              "7  understand crash course right context must und...          1\n",
              "8  impressed chavez stance globalisation sometime...          1\n",
              "9  movie directed renny harlin finnish miracle st...          1"
            ]
          },
          "metadata": {
            "tags": []
          },
          "execution_count": 4
        }
      ]
    },
    {
      "cell_type": "code",
      "metadata": {
        "colab": {
          "base_uri": "https://localhost:8080/",
          "height": 288
        },
        "id": "DMJoO-4k98Fc",
        "outputId": "f970844f-0d31-4bfe-ff63-7783c4c8c70b"
      },
      "source": [
        "imdb_data.describe()"
      ],
      "execution_count": 152,
      "outputs": [
        {
          "output_type": "execute_result",
          "data": {
            "text/html": [
              "<div>\n",
              "<style scoped>\n",
              "    .dataframe tbody tr th:only-of-type {\n",
              "        vertical-align: middle;\n",
              "    }\n",
              "\n",
              "    .dataframe tbody tr th {\n",
              "        vertical-align: top;\n",
              "    }\n",
              "\n",
              "    .dataframe thead th {\n",
              "        text-align: right;\n",
              "    }\n",
              "</style>\n",
              "<table border=\"1\" class=\"dataframe\">\n",
              "  <thead>\n",
              "    <tr style=\"text-align: right;\">\n",
              "      <th></th>\n",
              "      <th>sentiment</th>\n",
              "    </tr>\n",
              "  </thead>\n",
              "  <tbody>\n",
              "    <tr>\n",
              "      <th>count</th>\n",
              "      <td>50000.000000</td>\n",
              "    </tr>\n",
              "    <tr>\n",
              "      <th>mean</th>\n",
              "      <td>0.500000</td>\n",
              "    </tr>\n",
              "    <tr>\n",
              "      <th>std</th>\n",
              "      <td>0.500005</td>\n",
              "    </tr>\n",
              "    <tr>\n",
              "      <th>min</th>\n",
              "      <td>0.000000</td>\n",
              "    </tr>\n",
              "    <tr>\n",
              "      <th>25%</th>\n",
              "      <td>0.000000</td>\n",
              "    </tr>\n",
              "    <tr>\n",
              "      <th>50%</th>\n",
              "      <td>0.500000</td>\n",
              "    </tr>\n",
              "    <tr>\n",
              "      <th>75%</th>\n",
              "      <td>1.000000</td>\n",
              "    </tr>\n",
              "    <tr>\n",
              "      <th>max</th>\n",
              "      <td>1.000000</td>\n",
              "    </tr>\n",
              "  </tbody>\n",
              "</table>\n",
              "</div>"
            ],
            "text/plain": [
              "          sentiment\n",
              "count  50000.000000\n",
              "mean       0.500000\n",
              "std        0.500005\n",
              "min        0.000000\n",
              "25%        0.000000\n",
              "50%        0.500000\n",
              "75%        1.000000\n",
              "max        1.000000"
            ]
          },
          "metadata": {
            "tags": []
          },
          "execution_count": 152
        }
      ]
    },
    {
      "cell_type": "code",
      "metadata": {
        "colab": {
          "base_uri": "https://localhost:8080/"
        },
        "id": "Wb33gt7N-Knf",
        "outputId": "b8d1cceb-84fd-404b-dd33-be17f46f9fce"
      },
      "source": [
        "imdb_data['sentiment'].value_counts()"
      ],
      "execution_count": 153,
      "outputs": [
        {
          "output_type": "execute_result",
          "data": {
            "text/plain": [
              "1    25000\n",
              "0    25000\n",
              "Name: sentiment, dtype: int64"
            ]
          },
          "metadata": {
            "tags": []
          },
          "execution_count": 153
        }
      ]
    },
    {
      "cell_type": "code",
      "metadata": {
        "id": "lUQMN8BsocBs"
      },
      "source": [
        "#diveded into three different datasets\n",
        "\n",
        "train = imdb_data[:40000]\n",
        "test = imdb_data[40000:46400]\n",
        "valid = imdb_data[43600:50000]"
      ],
      "execution_count": 5,
      "outputs": []
    },
    {
      "cell_type": "code",
      "metadata": {
        "id": "4uN9Bc_fqMtG"
      },
      "source": [
        "#convert dataframe to csv file\n",
        "train.to_csv('train.csv', index=False)\n",
        "test.to_csv('test.csv', index=False)\n",
        "valid.to_csv('val.csv',index=False)"
      ],
      "execution_count": 6,
      "outputs": []
    },
    {
      "cell_type": "code",
      "metadata": {
        "id": "j_a7eWobEcOb"
      },
      "source": [
        "import numpy "
      ],
      "execution_count": 156,
      "outputs": []
    },
    {
      "cell_type": "code",
      "metadata": {
        "id": "rEhhdo6X8f8Q"
      },
      "source": [
        "# give the format of text and label\n",
        "tv_datafields = [(\"text\", TEXT), (\"label\", LABEL)]"
      ],
      "execution_count": 7,
      "outputs": []
    },
    {
      "cell_type": "code",
      "metadata": {
        "id": "MlkZKWrQpRpk"
      },
      "source": [
        "train, valid, test = data.TabularDataset.splits(path=\"\",\n",
        "                                                    train=\"train.csv\", validation=\"val.csv\",\n",
        "                                                    test=\"test.csv\", format=\"csv\",\n",
        "                                                    skip_header=True, fields=tv_datafields)"
      ],
      "execution_count": 8,
      "outputs": []
    },
    {
      "cell_type": "code",
      "metadata": {
        "colab": {
          "base_uri": "https://localhost:8080/"
        },
        "id": "Zntif9iolqA8",
        "outputId": "34f13583-26b3-4a70-cee9-111c03131898"
      },
      "source": [
        "#initial weight define by torchtext is zero but using this we can start it with random values\n",
        "\n",
        "MAX_VOCAB_SIZE = 25_000\n",
        "\n",
        "TEXT.build_vocab(train, \n",
        "                 max_size = MAX_VOCAB_SIZE, \n",
        "                 vectors =\"glove.6B.300d\", \n",
        "                 unk_init = torch.Tensor.normal_)\n",
        "\n",
        "LABEL.build_vocab(train)"
      ],
      "execution_count": 9,
      "outputs": [
        {
          "output_type": "stream",
          "text": [
            ".vector_cache/glove.6B.zip: 862MB [06:27, 2.23MB/s]                           \n",
            "100%|█████████▉| 399451/400000 [00:37<00:00, 10903.94it/s]"
          ],
          "name": "stderr"
        }
      ]
    },
    {
      "cell_type": "code",
      "metadata": {
        "id": "ZOs3JG0a82cY"
      },
      "source": [
        "#convert data into the iterable form\n",
        "batch_size = 64\n",
        "\n",
        "device = torch.device('cuda' if torch.cuda.is_available() else 'cpu')\n",
        "\n",
        "train_iterator,valid_iterator,test_iterator = data.BucketIterator.splits((train,valid,test), \n",
        "    batch_size = batch_size,sort_key=lambda x: len(x.label), sort_within_batch = True,\n",
        "    device = device)"
      ],
      "execution_count": 66,
      "outputs": []
    },
    {
      "cell_type": "markdown",
      "metadata": {
        "id": "zmKqKDCsvkp4"
      },
      "source": [
        "# Bidirectional LSTM model with and without attention \n"
      ]
    },
    {
      "cell_type": "code",
      "metadata": {
        "id": "_wls5_Cx9Vbw"
      },
      "source": [
        "import torch.nn as nn"
      ],
      "execution_count": 13,
      "outputs": []
    },
    {
      "cell_type": "markdown",
      "metadata": {
        "id": "qFY-ZT9hvyMD"
      },
      "source": [
        "Bidirectional LSTM without attention model"
      ]
    },
    {
      "cell_type": "code",
      "metadata": {
        "id": "rcl-F4nVYV2U"
      },
      "source": [
        "class BLSTM(nn.Module):\n",
        "    def __init__(self, vocab_size, embedding_dim, hidden_dim, output_dim, n_layers, \n",
        "                 bidirectional,batch_size, dropout, pad_idx):\n",
        "        \n",
        "        super().__init__()\n",
        "        self.hidden_dim = hidden_dim\n",
        "        self.n_layers = n_layers\n",
        "        \n",
        "        self.embedding = nn.Embedding(vocab_size, embedding_dim, padding_idx = pad_idx)\n",
        "        \n",
        "        self.rnn = nn.LSTM(embedding_dim, \n",
        "                           hidden_dim, \n",
        "                           num_layers=n_layers, \n",
        "                           bidirectional=bidirectional, \n",
        "                           dropout=dropout)\n",
        "        \n",
        "        self.fc = nn.Linear(hidden_dim *2, output_dim)\n",
        "        \n",
        "        self.dropout = nn.Dropout(dropout)\n",
        "        \n",
        "    def forward(self, text, batch_size):\n",
        "        \n",
        "        #text = [sent len, batch size]\n",
        "        \n",
        "        embedded = self.dropout(self.embedding(text))\n",
        "        \n",
        "        #embedded = [sent len, batch size, emb dim]\n",
        "        h_0 = Variable(torch.zeros(2*self.n_layers,batch_size,self.hidden_dim).to(device))\n",
        "        c_0 = Variable(torch.zeros(2*self.n_layers,batch_size,self.hidden_dim).to(device))\n",
        "        output, (hidden,final_cell_state) = self.rnn(embedded,(h_0,c_0))\n",
        "        \n",
        "        \n",
        "        hidden = self.dropout(torch.cat((hidden[-2,:,:], hidden[-1,:,:]), dim = 1))\n",
        "                \n",
        "        #hidden = [batch size, hid dim * num directions]\n",
        "            \n",
        "        return self.fc(hidden)"
      ],
      "execution_count": 32,
      "outputs": []
    },
    {
      "cell_type": "code",
      "metadata": {
        "id": "vVzWGVaaZMgI"
      },
      "source": [
        "INPUT_DIM = len(TEXT.vocab)\n",
        "EMBEDDING_DIM = 100\n",
        "HIDDEN_DIM = 256\n",
        "OUTPUT_DIM = 1\n",
        "N_LAYERS = 2\n",
        "BIDIRECTIONAL = True\n",
        "DROPOUT = 0.5\n",
        "PAD_IDX = TEXT.vocab.stoi[TEXT.pad_token]\n",
        "batch_size = 64\n",
        "\n",
        "model = BLSTM(INPUT_DIM, \n",
        "            EMBEDDING_DIM, \n",
        "            HIDDEN_DIM, \n",
        "            OUTPUT_DIM, \n",
        "            N_LAYERS, \n",
        "            BIDIRECTIONAL, \n",
        "            batch_size,\n",
        "            DROPOUT, \n",
        "            PAD_IDX)"
      ],
      "execution_count": 33,
      "outputs": []
    },
    {
      "cell_type": "markdown",
      "metadata": {
        "id": "rEnZCi2FwEP-"
      },
      "source": [
        "bidirectional LSTM with attention"
      ]
    },
    {
      "cell_type": "code",
      "metadata": {
        "id": "hZVf1zxfBb2M"
      },
      "source": [
        ""
      ],
      "execution_count": null,
      "outputs": []
    },
    {
      "cell_type": "code",
      "metadata": {
        "id": "Ih6KE9kCNesV"
      },
      "source": [
        "class ABLSTM1(nn.Module):\n",
        "    def __init__(self, vocab_size, embedding_dim, hidden_dim, output_dim, n_layers, \n",
        "                 bidirectional,batch_size, dropout, pad_idx):\n",
        "        \n",
        "        super().__init__()\n",
        "        self.hidden_dim = hidden_dim\n",
        "        self.n_layers = n_layers\n",
        "        \n",
        "        self.embedding = nn.Embedding(vocab_size, embedding_dim, padding_idx = pad_idx)\n",
        "        \n",
        "        self.rnn = nn.LSTM(embedding_dim, \n",
        "                           hidden_dim, \n",
        "                           num_layers=n_layers, \n",
        "                           bidirectional=bidirectional, \n",
        "                           dropout=dropout)\n",
        "        \n",
        "        self.fc = nn.Linear(hidden_dim *2 , output_dim)\n",
        "        \n",
        "        self.dropout = nn.Dropout(dropout)\n",
        "    \n",
        "    \n",
        "    \n",
        "     \n",
        "        \n",
        "    def forward(self, text, batch_size):\n",
        "        \n",
        "        #text = [sent len, batch size]\n",
        "        \n",
        "        embedded = self.dropout(self.embedding(text))\n",
        "        #embedded = embedded.permute(1,0,2)\n",
        "        \n",
        "        #embedded = [sent len, batch size, emb dim]\n",
        "        h_0 = Variable(torch.zeros(2*self.n_layers,batch_size,self.hidden_dim).to(device))\n",
        "        c_0 = Variable(torch.zeros(2*self.n_layers,batch_size,self.hidden_dim).to(device))\n",
        "        output, (hidden,final_cell_state) = self.rnn(embedded,(h_0,c_0))\n",
        "        \n",
        "        \n",
        "        output = output.permute(1,0,2)\n",
        "        #print(output.shape)\n",
        "        hidden = self.dropout(torch.cat((hidden[-2,:,:], hidden[-1,:,:]), dim = 1))\n",
        "        hidden = hidden.squeeze(0)\n",
        "        #print(hidden.shape)\n",
        "        #print(lstm_output.shape)\n",
        "\n",
        "        # attention part\n",
        "        attn_weights = torch.bmm(output, hidden.unsqueeze(2)).squeeze(2)\n",
        "        soft_attn_weights = F.softmax(attn_weights, 1)\n",
        "        new_hidden_state = torch.bmm(output.transpose(1, 2), soft_attn_weights.unsqueeze(2)).squeeze(2)\n",
        "        #print(hidden.shape)\n",
        "        #attn_output = self.attention_net(output,hidden)        \n",
        "        #hidden = [batch size, hid dim * num directions]\n",
        "            \n",
        "        return self.fc(new_hidden_state)"
      ],
      "execution_count": 45,
      "outputs": []
    },
    {
      "cell_type": "code",
      "metadata": {
        "id": "y1C6Tqm1CLUN"
      },
      "source": [
        "import math"
      ],
      "execution_count": 144,
      "outputs": []
    },
    {
      "cell_type": "code",
      "metadata": {
        "id": "1WQcgaPRipdv"
      },
      "source": [
        "INPUT_DIM = len(TEXT.vocab)\n",
        "EMBEDDING_DIM = 100\n",
        "HIDDEN_DIM = 256\n",
        "OUTPUT_DIM = 1\n",
        "N_LAYERS = 2\n",
        "BIDIRECTIONAL = True\n",
        "DROPOUT = 0.5\n",
        "PAD_IDX = TEXT.vocab.stoi[TEXT.pad_token]\n",
        "batch_size = 64\n",
        "\n",
        "model1 = ABLSTM1(INPUT_DIM, \n",
        "            EMBEDDING_DIM, \n",
        "            HIDDEN_DIM, \n",
        "            OUTPUT_DIM, \n",
        "            N_LAYERS, \n",
        "            BIDIRECTIONAL, \n",
        "            batch_size,\n",
        "            DROPOUT, \n",
        "            PAD_IDX)\n",
        "\n"
      ],
      "execution_count": 46,
      "outputs": []
    },
    {
      "cell_type": "code",
      "metadata": {
        "colab": {
          "base_uri": "https://localhost:8080/"
        },
        "id": "jBdAJcSdlecg",
        "outputId": "7ee96261-b5ee-431f-b1e5-3199db87c5ba"
      },
      "source": [
        "def count_parameters(model):\n",
        "    return sum(p.numel() for p in model.parameters() if p.requires_grad)\n",
        "\n",
        "print(f'The model has {count_parameters(model):,} trainable parameters')"
      ],
      "execution_count": 16,
      "outputs": [
        {
          "output_type": "stream",
          "text": [
            "The model has 4,810,857 trainable parameters\n"
          ],
          "name": "stdout"
        }
      ]
    },
    {
      "cell_type": "code",
      "metadata": {
        "colab": {
          "base_uri": "https://localhost:8080/"
        },
        "id": "-SQ6MMIpn9A_",
        "outputId": "2969e81a-f977-422c-87e1-fbd9d3f68ba5"
      },
      "source": [
        "pretrained_embeddings = TEXT.vocab.vectors\n",
        "\n",
        "print(pretrained_embeddings.shape)"
      ],
      "execution_count": 17,
      "outputs": [
        {
          "output_type": "stream",
          "text": [
            "torch.Size([25002, 300])\n"
          ],
          "name": "stdout"
        }
      ]
    },
    {
      "cell_type": "code",
      "metadata": {
        "colab": {
          "base_uri": "https://localhost:8080/"
        },
        "id": "UyQH0BdboG79",
        "outputId": "9d7ede98-c960-4a5f-df52-ce21ca5a0f6d"
      },
      "source": [
        "UNK_IDX = TEXT.vocab.stoi[TEXT.unk_token]\n",
        "\n",
        "model.embedding.weight.data[UNK_IDX] = torch.zeros(EMBEDDING_DIM)\n",
        "model.embedding.weight.data[PAD_IDX] = torch.zeros(EMBEDDING_DIM)\n",
        "\n",
        "print(model.embedding.weight.data)"
      ],
      "execution_count": 19,
      "outputs": [
        {
          "output_type": "stream",
          "text": [
            "tensor([[ 0.0000,  0.0000,  0.0000,  ...,  0.0000,  0.0000,  0.0000],\n",
            "        [ 0.0000,  0.0000,  0.0000,  ...,  0.0000,  0.0000,  0.0000],\n",
            "        [ 1.0185,  1.5625,  0.5127,  ..., -0.0139,  0.9483, -0.5734],\n",
            "        ...,\n",
            "        [ 1.7303,  0.6817,  0.7259,  ..., -0.2082, -1.1360,  0.8817],\n",
            "        [-0.3057, -2.0466,  0.6402,  ..., -0.6624,  1.1352,  0.8474],\n",
            "        [-0.8388, -1.2352, -2.5955,  ...,  0.1487, -0.1174,  1.0730]])\n"
          ],
          "name": "stdout"
        }
      ]
    },
    {
      "cell_type": "markdown",
      "metadata": {
        "id": "QJ1y-JXBxdhp"
      },
      "source": [
        "optimizer and loss function"
      ]
    },
    {
      "cell_type": "code",
      "metadata": {
        "id": "5U7FtYepoKVa"
      },
      "source": [
        "import torch.optim as optim\n",
        "\n",
        "optimizer = optim.Adam(model.parameters(),lr=0.0001)"
      ],
      "execution_count": 34,
      "outputs": []
    },
    {
      "cell_type": "code",
      "metadata": {
        "id": "H-dXLvpcoOIC"
      },
      "source": [
        "criterion = nn.BCEWithLogitsLoss()\n",
        "\n",
        "model = model.to(device)\n",
        "criterion = criterion.to(device)"
      ],
      "execution_count": 35,
      "outputs": []
    },
    {
      "cell_type": "markdown",
      "metadata": {
        "id": "Tubhuis8xmy3"
      },
      "source": [
        "optimizer and loss function with attention model"
      ]
    },
    {
      "cell_type": "code",
      "metadata": {
        "id": "wyKEV_8Ni4WR"
      },
      "source": [
        "import torch.optim as optim\n",
        "\n",
        "optimizer1 = optim.Adam(model1.parameters(), lr=0.0001)"
      ],
      "execution_count": 47,
      "outputs": []
    },
    {
      "cell_type": "code",
      "metadata": {
        "id": "SPjNuX5Bi8w9"
      },
      "source": [
        "criterion1 = nn.BCEWithLogitsLoss()\n",
        "\n",
        "model1 = model1.to(device)\n",
        "criterion1 = criterion.to(device)"
      ],
      "execution_count": 49,
      "outputs": []
    },
    {
      "cell_type": "code",
      "metadata": {
        "id": "P0fu3Z5MoSMQ"
      },
      "source": [
        "def binary_accuracy(preds, y):\n",
        "    \"\"\"\n",
        "    Returns accuracy per batch, i.e. if you get 8/10 right, this returns 0.8, NOT 8\n",
        "    \"\"\"\n",
        "\n",
        "    #round predictions to the closest integer\n",
        "    rounded_preds = torch.round(torch.sigmoid(preds))\n",
        "    correct = (rounded_preds == y).float() #convert into float for division \n",
        "    acc = correct.sum() / len(correct)\n",
        "    return acc"
      ],
      "execution_count": 50,
      "outputs": []
    },
    {
      "cell_type": "markdown",
      "metadata": {
        "id": "SSLIk405yHMq"
      },
      "source": [
        "training and evalute part without attention"
      ]
    },
    {
      "cell_type": "code",
      "metadata": {
        "id": "oZUodVtILHmz"
      },
      "source": [
        "def train(model, iterator, optimizer, criterion):\n",
        "    \n",
        "    epoch_loss = 0\n",
        "    epoch_acc = 0\n",
        "    \n",
        "    model.train()\n",
        "    \n",
        "    for batch in iterator:\n",
        "        \n",
        "        optimizer.zero_grad()\n",
        "        \n",
        "        #text, text_lengths = batch.text\n",
        "        batch_size =64\n",
        "        \n",
        "        predictions = model(batch.text.to(device),batch_size).squeeze(1)\n",
        "        \n",
        "        loss = criterion(predictions, batch.label.to(device))\n",
        "        \n",
        "        acc = binary_accuracy(predictions,batch.label.to(device))\n",
        "        \n",
        "        loss.backward()\n",
        "        \n",
        "        optimizer.step()\n",
        "        \n",
        "        epoch_loss += loss.item()\n",
        "        epoch_acc += acc.item()\n",
        "        \n",
        "    return epoch_loss / len(iterator), epoch_acc / len(iterator)"
      ],
      "execution_count": 51,
      "outputs": []
    },
    {
      "cell_type": "code",
      "metadata": {
        "id": "9v4ryDnqi7V5"
      },
      "source": [
        "\n",
        "\n",
        "\n",
        "def evaluate(model, iterator, criterion):\n",
        "    \n",
        "    epoch_loss = 0\n",
        "    epoch_acc = 0\n",
        "    \n",
        "    model.eval()\n",
        "    \n",
        "    with torch.no_grad():\n",
        "    \n",
        "        for batch in iterator:\n",
        "\n",
        "            #text, text_lengths = batch.text\n",
        "            \n",
        "            batch_size = 64\n",
        "            predictions = model(batch.text.to(device),batch_size).squeeze(1)\n",
        "            \n",
        "            loss = criterion(predictions, batch.label.to(device))\n",
        "            \n",
        "            acc = binary_accuracy(predictions, batch.label.to(device))\n",
        "\n",
        "            epoch_loss += loss.item()\n",
        "            epoch_acc += acc.item()\n",
        "        \n",
        "    return epoch_loss / len(iterator), epoch_acc / len(iterator)"
      ],
      "execution_count": 52,
      "outputs": []
    },
    {
      "cell_type": "code",
      "metadata": {
        "id": "8YASFKZnyUsL"
      },
      "source": [
        ""
      ],
      "execution_count": null,
      "outputs": []
    },
    {
      "cell_type": "markdown",
      "metadata": {
        "id": "_nFJdZk7x8Qf"
      },
      "source": [
        "Train and evalute model of the with attention model"
      ]
    },
    {
      "cell_type": "code",
      "metadata": {
        "id": "pOTpAw7JoX3g"
      },
      "source": [
        "def train1(model, iterator, optimizer, criterion):\n",
        "    \n",
        "    epoch_loss = 0\n",
        "    epoch_acc = 0\n",
        "    \n",
        "    model.train()\n",
        "    \n",
        "    for batch in iterator:\n",
        "        \n",
        "        optimizer.zero_grad()\n",
        "        \n",
        "        #text, text_lengths = batch.text\n",
        "        batch_size =64\n",
        "        \n",
        "        predictions = model(batch.text.to(device),batch_size).squeeze(1)\n",
        "        \n",
        "        loss = criterion(predictions, batch.label.to(device))\n",
        "        \n",
        "        acc = binary_accuracy(predictions,batch.label.to(device))\n",
        "        \n",
        "        loss.backward()\n",
        "        \n",
        "        optimizer.step()\n",
        "        \n",
        "        epoch_loss += loss.item()\n",
        "        epoch_acc += acc.item()\n",
        "        \n",
        "    return epoch_loss / len(iterator), epoch_acc / len(iterator)"
      ],
      "execution_count": 53,
      "outputs": []
    },
    {
      "cell_type": "code",
      "metadata": {
        "id": "LHagJC6uobT1"
      },
      "source": [
        "def evaluate1(model, iterator, criterion):\n",
        "    \n",
        "    epoch_loss = 0\n",
        "    epoch_acc = 0\n",
        "    \n",
        "    model.eval()\n",
        "    \n",
        "    with torch.no_grad():\n",
        "    \n",
        "        for batch in iterator:\n",
        "\n",
        "            #text, text_lengths = batch.text\n",
        "            \n",
        "            batch_size = 64\n",
        "            predictions = model(batch.text.to(device),batch_size).squeeze(1)\n",
        "            \n",
        "            loss = criterion(predictions, batch.label.to(device))\n",
        "            \n",
        "            acc = binary_accuracy(predictions, batch.label.to(device))\n",
        "\n",
        "            epoch_loss += loss.item()\n",
        "            epoch_acc += acc.item()\n",
        "        \n",
        "    return epoch_loss / len(iterator), epoch_acc / len(iterator)"
      ],
      "execution_count": 54,
      "outputs": []
    },
    {
      "cell_type": "code",
      "metadata": {
        "id": "7_NSRNrtogil"
      },
      "source": [
        "import time\n",
        "\n",
        "def epoch_time(start_time, end_time):\n",
        "    elapsed_time = end_time - start_time\n",
        "    elapsed_mins = int(elapsed_time / 60)\n",
        "    elapsed_secs = int(elapsed_time - (elapsed_mins * 60))\n",
        "    return elapsed_mins, elapsed_secs"
      ],
      "execution_count": 55,
      "outputs": []
    },
    {
      "cell_type": "code",
      "metadata": {
        "id": "IqubDYHjD0WZ"
      },
      "source": [
        "from torch.autograd import Variable"
      ],
      "execution_count": 56,
      "outputs": []
    },
    {
      "cell_type": "code",
      "metadata": {
        "id": "rXLchmzxoqYe"
      },
      "source": [
        "N_EPOCHS = 10"
      ],
      "execution_count": 57,
      "outputs": []
    },
    {
      "cell_type": "code",
      "metadata": {
        "id": "PzYTN2cQDk6X"
      },
      "source": [
        "import torch.nn.functional as F"
      ],
      "execution_count": 58,
      "outputs": []
    },
    {
      "cell_type": "markdown",
      "metadata": {
        "id": "43S21UCNyyit"
      },
      "source": [
        "train for Biderectional LSTM"
      ]
    },
    {
      "cell_type": "code",
      "metadata": {
        "colab": {
          "base_uri": "https://localhost:8080/"
        },
        "id": "9It2ZmtJyrT2",
        "outputId": "205e6783-3f6e-4183-8311-86d02135cfab"
      },
      "source": [
        "train_losses = []\n",
        "valid_losses = []\n",
        "best_valid_loss = float('inf')\n",
        "\n",
        "for epoch in range(N_EPOCHS):\n",
        "\n",
        "    start_time = time.time()\n",
        "    \n",
        "    train_loss, train_acc = train(model, train_iterator, optimizer, criterion)\n",
        "    valid_loss, valid_acc = evaluate(model, valid_iterator, criterion)\n",
        "    \n",
        "    end_time = time.time()\n",
        "\n",
        "    epoch_mins, epoch_secs = epoch_time(start_time, end_time)\n",
        "    \n",
        "    if valid_loss < best_valid_loss:\n",
        "        best_valid_loss = valid_loss\n",
        "        torch.save(model.state_dict(), 'BLSTM-model.pt')\n",
        "    train_losses.append(train_loss)\n",
        "    valid_losses.append(valid_loss)\n",
        "    print(f'Epoch: {epoch+1:02} | Epoch Time: {epoch_mins}m {epoch_secs}s')\n",
        "    print(f'\\tTrain Loss: {train_loss:.3f} | Train Acc: {train_acc*100:.2f}%')\n",
        "    print(f'\\t Val. Loss: {valid_loss:.3f} |  Val. Acc: {valid_acc*100:.2f}%')"
      ],
      "execution_count": 42,
      "outputs": [
        {
          "output_type": "stream",
          "text": [
            "Epoch: 01 | Epoch Time: 2m 21s\n",
            "\tTrain Loss: 0.670 | Train Acc: 57.52%\n",
            "\t Val. Loss: 0.642 |  Val. Acc: 61.58%\n",
            "Epoch: 02 | Epoch Time: 2m 22s\n",
            "\tTrain Loss: 0.604 | Train Acc: 67.26%\n",
            "\t Val. Loss: 0.565 |  Val. Acc: 70.62%\n",
            "Epoch: 03 | Epoch Time: 2m 22s\n",
            "\tTrain Loss: 0.542 | Train Acc: 73.08%\n",
            "\t Val. Loss: 0.483 |  Val. Acc: 77.84%\n",
            "Epoch: 04 | Epoch Time: 2m 22s\n",
            "\tTrain Loss: 0.498 | Train Acc: 76.30%\n",
            "\t Val. Loss: 0.485 |  Val. Acc: 77.91%\n",
            "Epoch: 05 | Epoch Time: 2m 21s\n",
            "\tTrain Loss: 0.545 | Train Acc: 73.06%\n",
            "\t Val. Loss: 0.466 |  Val. Acc: 78.44%\n",
            "Epoch: 06 | Epoch Time: 2m 21s\n",
            "\tTrain Loss: 0.464 | Train Acc: 78.86%\n",
            "\t Val. Loss: 0.397 |  Val. Acc: 82.61%\n",
            "Epoch: 07 | Epoch Time: 2m 21s\n",
            "\tTrain Loss: 0.431 | Train Acc: 80.73%\n",
            "\t Val. Loss: 0.388 |  Val. Acc: 83.14%\n",
            "Epoch: 08 | Epoch Time: 2m 21s\n",
            "\tTrain Loss: 0.423 | Train Acc: 81.49%\n",
            "\t Val. Loss: 0.383 |  Val. Acc: 83.34%\n",
            "Epoch: 09 | Epoch Time: 2m 22s\n",
            "\tTrain Loss: 0.478 | Train Acc: 77.64%\n",
            "\t Val. Loss: 0.450 |  Val. Acc: 78.23%\n",
            "Epoch: 10 | Epoch Time: 2m 21s\n",
            "\tTrain Loss: 0.511 | Train Acc: 76.49%\n",
            "\t Val. Loss: 0.472 |  Val. Acc: 78.08%\n"
          ],
          "name": "stdout"
        }
      ]
    },
    {
      "cell_type": "code",
      "metadata": {
        "id": "bRlfzlh1Z_xW"
      },
      "source": [
        "import matplotlib.pyplot as plt\n"
      ],
      "execution_count": 43,
      "outputs": []
    },
    {
      "cell_type": "code",
      "metadata": {
        "colab": {
          "base_uri": "https://localhost:8080/",
          "height": 282
        },
        "id": "Kg1B8VX6Z_1H",
        "outputId": "88bb7d82-bc6e-4184-e1b5-78556b14068c"
      },
      "source": [
        "plt.plot(train_losses)\n",
        "plt.plot(valid_losses)"
      ],
      "execution_count": 44,
      "outputs": [
        {
          "output_type": "execute_result",
          "data": {
            "text/plain": [
              "[<matplotlib.lines.Line2D at 0x7fcb42b741d0>]"
            ]
          },
          "metadata": {
            "tags": []
          },
          "execution_count": 44
        },
        {
          "output_type": "display_data",
          "data": {
            "image/png": "[encoded data removed]",
            "text/plain": [
              "<Figure size 432x288 with 1 Axes>"
            ]
          },
          "metadata": {
            "tags": [],
            "needs_background": "light"
          }
        }
      ]
    },
    {
      "cell_type": "markdown",
      "metadata": {
        "id": "U60rVSEGy4zl"
      },
      "source": [
        "train for Biderectional with attention"
      ]
    },
    {
      "cell_type": "code",
      "metadata": {
        "colab": {
          "base_uri": "https://localhost:8080/"
        },
        "id": "5jQCw_ROokKK",
        "outputId": "ebaafb6f-ac5e-424b-c6c5-d9295d2e73b2"
      },
      "source": [
        "train_loss_a = []\n",
        "valid_loss_a = []\n",
        "best_valid_loss = float('inf')\n",
        "\n",
        "for epoch in range(N_EPOCHS):\n",
        "\n",
        "    start_time = time.time()\n",
        "    \n",
        "    train_loss, train_acc = train(model1, train_iterator, optimizer1, criterion1)\n",
        "    valid_loss, valid_acc = evaluate(model1, valid_iterator, criterion1)\n",
        "    \n",
        "    end_time = time.time()\n",
        "\n",
        "    epoch_mins, epoch_secs = epoch_time(start_time, end_time)\n",
        "    \n",
        "    if valid_loss < best_valid_loss:\n",
        "        best_valid_loss = valid_loss\n",
        "        torch.save(model.state_dict(), 'ABLSTM-model.pt')\n",
        "    train_loss_a.append(train_loss)\n",
        "    valid_loss_a.append(valid_loss)\n",
        "    print(f'Epoch: {epoch+1:02} | Epoch Time: {epoch_mins}m {epoch_secs}s')\n",
        "    print(f'\\tTrain Loss: {train_loss:.3f} | Train Acc: {train_acc*100:.2f}%')\n",
        "    print(f'\\t Val. Loss: {valid_loss:.3f} |  Val. Acc: {valid_acc*100:.2f}%')"
      ],
      "execution_count": 59,
      "outputs": [
        {
          "output_type": "stream",
          "text": [
            "Epoch: 01 | Epoch Time: 2m 26s\n",
            "\tTrain Loss: 0.653 | Train Acc: 60.67%\n",
            "\t Val. Loss: 0.575 |  Val. Acc: 69.84%\n",
            "Epoch: 02 | Epoch Time: 2m 27s\n",
            "\tTrain Loss: 0.599 | Train Acc: 67.62%\n",
            "\t Val. Loss: 0.565 |  Val. Acc: 68.61%\n",
            "Epoch: 03 | Epoch Time: 2m 27s\n",
            "\tTrain Loss: 0.600 | Train Acc: 65.85%\n",
            "\t Val. Loss: 0.546 |  Val. Acc: 71.94%\n",
            "Epoch: 04 | Epoch Time: 2m 27s\n",
            "\tTrain Loss: 0.611 | Train Acc: 67.01%\n",
            "\t Val. Loss: 0.584 |  Val. Acc: 72.25%\n",
            "Epoch: 05 | Epoch Time: 2m 27s\n",
            "\tTrain Loss: 0.566 | Train Acc: 71.41%\n",
            "\t Val. Loss: 0.509 |  Val. Acc: 76.31%\n",
            "Epoch: 06 | Epoch Time: 2m 27s\n",
            "\tTrain Loss: 0.529 | Train Acc: 74.07%\n",
            "\t Val. Loss: 0.471 |  Val. Acc: 77.98%\n",
            "Epoch: 07 | Epoch Time: 2m 27s\n",
            "\tTrain Loss: 0.502 | Train Acc: 75.93%\n",
            "\t Val. Loss: 0.443 |  Val. Acc: 79.83%\n",
            "Epoch: 08 | Epoch Time: 2m 28s\n",
            "\tTrain Loss: 0.479 | Train Acc: 77.36%\n",
            "\t Val. Loss: 0.420 |  Val. Acc: 80.50%\n",
            "Epoch: 09 | Epoch Time: 2m 27s\n",
            "\tTrain Loss: 0.455 | Train Acc: 78.68%\n",
            "\t Val. Loss: 0.402 |  Val. Acc: 82.31%\n",
            "Epoch: 10 | Epoch Time: 2m 28s\n",
            "\tTrain Loss: 0.433 | Train Acc: 80.09%\n",
            "\t Val. Loss: 0.421 |  Val. Acc: 80.81%\n"
          ],
          "name": "stdout"
        }
      ]
    },
    {
      "cell_type": "code",
      "metadata": {
        "colab": {
          "base_uri": "https://localhost:8080/",
          "height": 282
        },
        "id": "xyME9AHNgv-V",
        "outputId": "ff659a76-2e2b-4a71-cc27-33fcdfb7407b"
      },
      "source": [
        "plt.plot(train_loss_a)\n",
        "plt.plot(valid_loss_a)"
      ],
      "execution_count": 61,
      "outputs": [
        {
          "output_type": "execute_result",
          "data": {
            "text/plain": [
              "[<matplotlib.lines.Line2D at 0x7fcb42b74fd0>]"
            ]
          },
          "metadata": {
            "tags": []
          },
          "execution_count": 61
        },
        {
          "output_type": "display_data",
          "data": {
            "image/png": "[encoded data removed]",
            "text/plain": [
              "<Figure size 432x288 with 1 Axes>"
            ]
          },
          "metadata": {
            "tags": [],
            "needs_background": "light"
          }
        }
      ]
    },
    {
      "cell_type": "markdown",
      "metadata": {
        "id": "D7udprp6zC0o"
      },
      "source": [
        "Testing for bidirectional lstm "
      ]
    },
    {
      "cell_type": "code",
      "metadata": {
        "colab": {
          "base_uri": "https://localhost:8080/"
        },
        "id": "7njkXo8NblCX",
        "outputId": "8032cb3b-765a-45d0-e8b8-490b3eb9756e"
      },
      "source": [
        "model.load_state_dict(torch.load('BLSTM-model.pt'))\n",
        "\n",
        "test_loss, test_acc = evaluate(model, test_iterator, criterion)\n",
        "\n",
        "print(f'Test Loss: {test_loss:.3f} | Test Acc: {test_acc*100:.2f}%')"
      ],
      "execution_count": 62,
      "outputs": [
        {
          "output_type": "stream",
          "text": [
            "Test Loss: 0.388 | Test Acc: 82.94%\n"
          ],
          "name": "stdout"
        }
      ]
    },
    {
      "cell_type": "markdown",
      "metadata": {
        "id": "x8ti-e1NzJD0"
      },
      "source": [
        "testing for bidirectional Lstm with attention"
      ]
    },
    {
      "cell_type": "code",
      "metadata": {
        "colab": {
          "base_uri": "https://localhost:8080/"
        },
        "id": "P3CE0Z6G3V1v",
        "outputId": "c033de35-8207-4572-9f30-3df4134b06f4"
      },
      "source": [
        "model.load_state_dict(torch.load('ABLSTM-model.pt'))\n",
        "\n",
        "test_loss, test_acc = evaluate(model1, test_iterator, criterion)\n",
        "\n",
        "print(f'Test Loss: {test_loss:.3f} | Test Acc: {test_acc*100:.2f}%')"
      ],
      "execution_count": 60,
      "outputs": [
        {
          "output_type": "stream",
          "text": [
            "Test Loss: 0.431 | Test Acc: 80.69%\n"
          ],
          "name": "stdout"
        }
      ]
    },
    {
      "cell_type": "code",
      "metadata": {
        "id": "N7l7eSQriahl"
      },
      "source": [
        "import numpy as np"
      ],
      "execution_count": 64,
      "outputs": []
    },
    {
      "cell_type": "code",
      "metadata": {
        "colab": {
          "base_uri": "https://localhost:8080/"
        },
        "id": "qXfIy5cYgoDv",
        "outputId": "331e1c3c-6998-4881-84d0-4a967be80b80"
      },
      "source": [
        "batch_size = 64\n",
        "predicted_labels = []\n",
        "prediction_probabilities = []\n",
        "actual_labels = []\n",
        "predicted = []\n",
        "num_correct = 0\n",
        "total_images = 0\n",
        "confusion_mat = np.zeros([200,200],int)              #inintializing the confusion matrix\n",
        "with torch.no_grad():\n",
        "    for batch in test_iterator:\n",
        "      #inputs = batch.text.to(device)\n",
        "      labels = batch.label.to(device)\n",
        "      outputs = model(batch.text.to(device),batch_size).squeeze(1)\n",
        "      prediction_probabilities += list(np.array(outputs.detach().cpu()))\n",
        "            \n",
        "      loss = criterion(outputs, batch.label.to(device))\n",
        "      #outputs  = model(inputs,batch_size)\n",
        "      #loss = criterion(outputs,labels)\n",
        "      pred = torch.round(outputs.squeeze())\n",
        "      predicted_labels += list(np.array(pred.detach().cpu(),dtype=int))\n",
        "      actual_labels += list(np.array(labels.detach().cpu(),dtype=int))\n",
        "    \n",
        "    # compare predictions to true label\n",
        "      correct_tensor = pred.eq(labels.float().view_as(pred))\n",
        "      correct = np.squeeze(correct_tensor.cpu().numpy())\n",
        "      num_correct += np.sum(correct)\n",
        "      #_,predicted = torch.max(outputs,1)\n",
        "\n",
        "      total_images += labels.size(0)\n",
        "      #total_correct += (pred == labels).sum().item()\n",
        "      #for i, l in enumerate(labels):\n",
        "       # confusion_mat[l.item(), pred[i].item()] += 1          # Row = actual class , COl = predicted class                      \n",
        "\n",
        "model_accuracy = num_correct / total_images * 100\n",
        "print('Model accuracy on {0} test images: {1:.2f}%'.format(total_images, model_accuracy))"
      ],
      "execution_count": 78,
      "outputs": [
        {
          "output_type": "stream",
          "text": [
            "Model accuracy on 6400 test images: 18.41%\n"
          ],
          "name": "stdout"
        }
      ]
    },
    {
      "cell_type": "code",
      "metadata": {
        "id": "Jw-38X36iZHm"
      },
      "source": [
        "epoch_loss = 0\n",
        "epoch_acc = 0\n",
        "model.eval()\n",
        "prediction_probabilities = []\n",
        "actual_labels = []\n",
        "predicted_labels = []\n",
        "\n",
        "    \n",
        "with torch.no_grad():\n",
        "\n",
        "    \n",
        "  for batch in test_iterator:\n",
        "\n",
        "            #text, text_lengths = batch.text\n",
        "            \n",
        "            batch_size = 64\n",
        "            predictions = model(batch.text.to(device),batch_size).squeeze(1)\n",
        "            prediction_probabilities += list(np.array(predictions.detach().cpu()))\n",
        "            \n",
        "            loss = criterion(predictions, batch.label.to(device))\n",
        "            pred = torch.round(torch.sigmoid(predictions))\n",
        "            #pred = torch.round(outputs.squeeze())\n",
        "            predicted_labels += list(np.array(pred.detach().cpu(),dtype=int))\n",
        "            actual_labels += list(np.array(batch.label.detach().cpu(),dtype=int))\n",
        "            \n",
        "            acc = binary_accuracy(predictions, batch.label.to(device))\n",
        "\n",
        "            epoch_loss += loss.item()\n",
        "            epoch_acc += acc.item()\n",
        "\n",
        "#return epoch_loss / len(iterator), epoch_acc / len(iterator)"
      ],
      "execution_count": 100,
      "outputs": []
    },
    {
      "cell_type": "code",
      "metadata": {
        "id": "dMsRdPdbol4e"
      },
      "source": [
        "def confusion_matrix(actual, predicted):\n",
        "  TP, TN, FP, FN = 0, 0, 0, 0\n",
        "  for a,b in zip(actual, predicted):\n",
        "    if a == b == 1:\n",
        "      TP += 1\n",
        "\n",
        "    elif a == b == 0:\n",
        "      TN += 1\n",
        "    \n",
        "    elif a == 1 and b == 0:\n",
        "      FN += 1\n",
        "    \n",
        "    else:\n",
        "      TN += 1\n",
        "  \n",
        "  return TP, TN, FP, FN"
      ],
      "execution_count": 101,
      "outputs": []
    },
    {
      "cell_type": "code",
      "metadata": {
        "colab": {
          "base_uri": "https://localhost:8080/"
        },
        "id": "J1gZaME0pEao",
        "outputId": "de2101b3-4c4e-481e-d37a-0a08335f5ce7"
      },
      "source": [
        "TP, TN, FP, FN = confusion_matrix(actual_labels, predicted_labels)\n",
        "print([[TP,FP],[FN,TN]])"
      ],
      "execution_count": 102,
      "outputs": [
        {
          "output_type": "stream",
          "text": [
            "[[2628, 0], [601, 3171]]\n"
          ],
          "name": "stdout"
        }
      ]
    },
    {
      "cell_type": "code",
      "metadata": {
        "id": "XPfYClj6pRe3"
      },
      "source": [
        "epoch_loss = 0\n",
        "epoch_acc = 0\n",
        "model.eval()\n",
        "prediction_probabilities1 = []\n",
        "actual_labels1 = []\n",
        "predicted_labels1 = []\n",
        "\n",
        "    \n",
        "with torch.no_grad():\n",
        "\n",
        "    \n",
        "  for batch in test_iterator:\n",
        "\n",
        "            #text, text_lengths = batch.text\n",
        "            \n",
        "            batch_size = 64\n",
        "            predictions = model1(batch.text.to(device),batch_size).squeeze(1)\n",
        "            prediction_probabilities1 += list(np.array(predictions.detach().cpu()))\n",
        "            \n",
        "            loss = criterion(predictions, batch.label.to(device))\n",
        "            pred = torch.round(torch.sigmoid(predictions))\n",
        "            #pred = torch.round(outputs.squeeze())\n",
        "            predicted_labels1 += list(np.array(pred.detach().cpu(),dtype=int))\n",
        "            actual_labels1 += list(np.array(batch.label.detach().cpu(),dtype=int))\n",
        "            \n",
        "            acc = binary_accuracy(predictions, batch.label.to(device))\n",
        "\n",
        "            epoch_loss += loss.item()\n",
        "            epoch_acc += acc.item()\n",
        "\n",
        "#return epoch_loss / len(iterator), epoch_acc / len(iterator)"
      ],
      "execution_count": 103,
      "outputs": []
    },
    {
      "cell_type": "code",
      "metadata": {
        "colab": {
          "base_uri": "https://localhost:8080/"
        },
        "id": "QNXex0jHpjvz",
        "outputId": "ed2f160e-a2be-4d99-d203-24e3a496bdd8"
      },
      "source": [
        "TP, TN, FP, FN = confusion_matrix(actual_labels1, predicted_labels1)\n",
        "print([[TP,FP],[FN,TN]])"
      ],
      "execution_count": 104,
      "outputs": [
        {
          "output_type": "stream",
          "text": [
            "[[2245, 0], [984, 3171]]\n"
          ],
          "name": "stdout"
        }
      ]
    },
    {
      "cell_type": "code",
      "metadata": {
        "id": "qtvLQpjIprZn"
      },
      "source": [
        "def get_ROC_curve(apredicted_labels, probabilities):\n",
        "\n",
        "    dat = np.hstack(( np.array(apredicted_labels).reshape(-1,1), np.array(probabilities).reshape(-1,1) ))\n",
        "    dataset = pd.DataFrame(dat, columns=[\"y\",\"proba\"])\n",
        "    \n",
        "    # lists to store TPR and FRP values\n",
        "    TPR_values = []\n",
        "    FPR_values = []\n",
        "    nrows = len(dataset)  \n",
        "    \n",
        "    # Sort dataframe in descending order by probability values\n",
        "    dataset.sort_values(\"proba\",ascending = False , inplace = True)\n",
        "    \n",
        "    # A list that stores the actual class labels\n",
        "    act_list = dataset[\"y\"].tolist()\n",
        "    \n",
        "    # A list that stores the probability scores\n",
        "    prob_list = dataset[\"proba\"].tolist()\n",
        "    \n",
        "    # Calculate the number of positive values\n",
        "    P = dataset[\"y\"].tolist().count(1)\n",
        "    \n",
        "    # Calculate the number of negative values\n",
        "    N = dataset[\"y\"].tolist().count(0)\n",
        "    \n",
        "    for i in range(0,nrows):\n",
        "        \n",
        "        # Select the threshold\n",
        "        thresh = prob_list[i]\n",
        "        \n",
        "        # Initialize TP and FP to zero\n",
        "        TP = FP = 0        \n",
        "        \n",
        "        # Calculate The number of true positives and number of false positive for each threshold\n",
        "        for j in range(0,nrows):\n",
        "            class_label = 1 if prob_list[j]>=thresh else 0\n",
        "            actual_label = act_list[j]\n",
        "            \n",
        "            if class_label == 1:\n",
        "                if actual_label ==1:\n",
        "                    TP += 1\n",
        "                else:\n",
        "                    FP += 1\n",
        "        # Append them to the array\n",
        "        TPR_values.append(TP/P)\n",
        "        FPR_values.append(FP/N)\n",
        "    \n",
        "    # Plot the ROC Curve\n",
        "    print(\"The ROC Curve is:\")\n",
        "    plt.plot(FPR_values, TPR_values,label=\"ROC Curve\")\n",
        "    plt.grid()\n",
        "    plt.legend()\n",
        "    plt.show()"
      ],
      "execution_count": 105,
      "outputs": []
    },
    {
      "cell_type": "code",
      "metadata": {
        "id": "TNqzl1e_qnLE"
      },
      "source": [
        "def get_PRC_Curve(y_test_probs,actual):\n",
        "  probability_thresholds = np.linspace(0, 1, num=100)\n",
        "\n",
        "  precision_scores = []\n",
        "  recall_scores = []\n",
        "\n",
        "  for p in probability_thresholds:\n",
        "    y_test_preds = []\n",
        "    \n",
        "    for prob in y_test_probs:\n",
        "        if prob > p:\n",
        "          y_test_preds.append(1)\n",
        "        else:\n",
        "          y_test_preds.append(0)\n",
        "            \n",
        "    precision, recall = calc_precision_recall(actual, y_test_preds)\n",
        "        \n",
        "    precision_scores.append(precision)\n",
        "    recall_scores.append(recall)\n",
        "\n",
        "  plt.plot(precision_scores, label='PRECISION', color='red')\n",
        "  plt.plot(recall_scores, label='RECALL', color='green')\n",
        "  plt.plot(recall_scores, precision_scores, color='green', label = 'PR Curve')\n",
        "  plt.legend()\n",
        "  plt.grid()\n",
        "  plt.plot()"
      ],
      "execution_count": 88,
      "outputs": []
    },
    {
      "cell_type": "code",
      "metadata": {
        "colab": {
          "base_uri": "https://localhost:8080/",
          "height": 282
        },
        "id": "dmzEnIqjyfBZ",
        "outputId": "9f0b3052-3919-4cb5-8de0-e82a492f1cc0"
      },
      "source": [
        "get_ROC_curve(predicted_labels, prediction_probabilities)"
      ],
      "execution_count": 107,
      "outputs": [
        {
          "output_type": "stream",
          "text": [
            "The ROC Curve is:\n"
          ],
          "name": "stdout"
        },
        {
          "output_type": "display_data",
          "data": {
            "image/png": "[encoded data removed]",
            "text/plain": [
              "<Figure size 432x288 with 1 Axes>"
            ]
          },
          "metadata": {
            "tags": [],
            "needs_background": "light"
          }
        }
      ]
    },
    {
      "cell_type": "code",
      "metadata": {
        "colab": {
          "base_uri": "https://localhost:8080/",
          "height": 282
        },
        "id": "Gf7Q5_bHqtAK",
        "outputId": "b87b2064-9743-4374-b500-56f0001bbbb6"
      },
      "source": [
        "get_ROC_curve(predicted_labels1, prediction_probabilities1)"
      ],
      "execution_count": 106,
      "outputs": [
        {
          "output_type": "stream",
          "text": [
            "The ROC Curve is:\n"
          ],
          "name": "stdout"
        },
        {
          "output_type": "display_data",
          "data": {
            "image/png": "[encoded data removed]",
            "text/plain": [
              "<Figure size 432x288 with 1 Axes>"
            ]
          },
          "metadata": {
            "tags": [],
            "needs_background": "light"
          }
        }
      ]
    },
    {
      "cell_type": "code",
      "metadata": {
        "id": "aj43_zPxydMR"
      },
      "source": [
        ""
      ],
      "execution_count": null,
      "outputs": []
    },
    {
      "cell_type": "code",
      "metadata": {
        "id": "yQkm7qsdttMb"
      },
      "source": [
        ""
      ],
      "execution_count": null,
      "outputs": []
    }
  ]
}